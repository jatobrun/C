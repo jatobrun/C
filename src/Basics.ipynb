{
 "cells": [
  {
   "cell_type": "markdown",
   "metadata": {},
   "source": [
    "# Basics\n",
    "Empezaremos programando nuestro primer programa llamado 'Hello World'. El proposito de esto es entender como podemos comunicarnos con el CPU utilizando instrucciones.\n",
    "> Nota: La computadoras son muy tontas, por ende debemos decirle que hacer paso a paso."
   ]
  },
  {
   "cell_type": "markdown",
   "metadata": {},
   "source": [
    "## Algoritmo \n",
    "Es explicar paso a paso con mucho detalle que queremos que la computadora haga por nosotros.\n",
    "## Funciones \n",
    "Son grupos de instrucciones.\n",
    "### Ejemplo \n",
    "Tenemos el algoritmo ir a la escuela. Dentro de este algoritmo tenemos las funciones desayunar, caminar, cepillarse, banarse. Dentro de la funcion caminar tenemos las instrucciones mover la pierna izquierda, mover la pierna derecha."
   ]
  },
  {
   "cell_type": "code",
   "execution_count": 12,
   "metadata": {},
   "outputs": [
    {
     "name": "stdout",
     "output_type": "stream",
     "text": [
      "Hello World\n"
     ]
    }
   ],
   "source": [
    "#include <stdio.h>\n",
    "\n",
    "int main(){\n",
    "    printf(\"Hello World\\n\");\n",
    "    return 0;\n",
    "}"
   ]
  },
  {
   "cell_type": "markdown",
   "metadata": {},
   "source": [
    "Empezamos nuestro ejemplo con `#include <stdio.h>` esto es una libreria, de aqui sacamos la funcion `printf()`. Sin la libreria `stdio.h` no podriamos utilizar la funcion `printf()` nos saldria **error**.\n",
    "\n",
    "Siempre empezaremos nuestro programa con una funcion `main()` y lo terminaremos con `return 0;` lo cual significa que todo bien con nuestro programa no hubo ninguno problema. Dentro de las llaves es donde pondremos todas nuestras instrucciones.\n",
    "\n",
    "El `\"Hello World\\n\"` dentro de la funcion `printf()` es un parametro.\n",
    "\n",
    "El `int` a lado de `main()` es el tipo de dato de `0` a lado del return.\n",
    "\n",
    "Todas las intrucciones terminan con un `;` debido a que C es un lenguaje Space inSensitive, quiere decir que no distingue los espacios, por ende `;` sirve para decir cuando una intruccion termina.\n",
    "\n",
    "Utilizaremos los espacios para que nuestro codigo sea mas facil de leer. Formatearemos y utilizaremos convenciones para escribir nuestro codigo."
   ]
  },
  {
   "cell_type": "code",
   "execution_count": 14,
   "metadata": {},
   "outputs": [
    {
     "name": "stderr",
     "output_type": "stream",
     "text": [
      "/var/folders/sw/7gzpll8j26jdcggqct7009500000gn/T/tmptaqicg2k.c:1:1: error: expected identifier or '('\n",
      "2+2\n",
      "^\n",
      "1 error generated.\n",
      "[C kernel] GCC exited with code 1, the executable will not be executed"
     ]
    }
   ],
   "source": []
  },
  {
   "cell_type": "code",
   "execution_count": null,
   "metadata": {},
   "outputs": [],
   "source": []
  }
 ],
 "metadata": {
  "kernelspec": {
   "display_name": "C",
   "language": "c",
   "name": "c"
  },
  "language_info": {
   "file_extension": ".c",
   "mimetype": "text/plain",
   "name": "c"
  }
 },
 "nbformat": 4,
 "nbformat_minor": 4
}
