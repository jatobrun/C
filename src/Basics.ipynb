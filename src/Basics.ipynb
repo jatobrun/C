{
 "cells": [
  {
   "cell_type": "markdown",
   "metadata": {},
   "source": [
    "# Introduccion\n",
    "-----------\n",
    "\n",
    "Empezaremos programando nuestro primer programa llamado 'Hello World'. El proposito de esto es entender como podemos comunicarnos con el CPU utilizando instrucciones.\n",
    "> ⚠️ **Nota:** La computadoras son muy tontas, por ende debemos decirle que hacer paso a paso.\n",
    "\n",
    "------------"
   ]
  },
  {
   "cell_type": "markdown",
   "metadata": {},
   "source": [
    "\n",
    "✍🏽 **Algoritmo:** Es explicar paso a paso con mucho detalle que queremos que la computadora haga por nosotros.\n",
    "\n",
    "✍🏽 **Funciones:** Se usa para llamar o ejecutar un grupo de instruccion de una sola vez. Obviamente la computadora ejecutara una instruccion a la vez dentro de la funcion, pero para nosotros solo vemos una linea el llamado de la funcion. Puedes ver mas sobre funciones [aqui](https://github.com/jatobrun/C/blob/main/src/Arrays.ipynb).\n",
    "\n",
    "✍🏽 **Arguemntos:** Son las variables que le pasamos a nuestras funciones. Podemos pasar el numero de variables que queramos pero debemos separar cada argumento con una coma.\n",
    "\n",
    "-----\n",
    "\n",
    "🔆 *Ejemplo:* \n",
    "Tenemos el algoritmo ir a la escuela. Dentro de este algoritmo tenemos las funciones desayunar, caminar, cepillarse, banarse. Dentro de la funcion caminar tenemos las instrucciones mover la pierna izquierda, mover la pierna derecha.\n",
    "\n",
    "---"
   ]
  },
  {
   "cell_type": "code",
   "execution_count": 1,
   "metadata": {},
   "outputs": [
    {
     "name": "stdout",
     "output_type": "stream",
     "text": [
      "Hello World\n"
     ]
    }
   ],
   "source": [
    "#include <stdio.h>\n",
    "\n",
    "int main(){\n",
    "    printf(\"Hello World\\n\");\n",
    "    return 0;\n",
    "}"
   ]
  },
  {
   "cell_type": "markdown",
   "metadata": {},
   "source": [
    "--------------------\n",
    "⭕️ Empezamos nuestro ejemplo con `#include <stdio.h>` esto es una libreria, de aqui sacamos la funcion `printf()`. Sin la libreria `stdio.h` no podriamos utilizar la funcion `printf()` nos saldria **error**.\n",
    "\n",
    "⭕️ Siempre empezaremos nuestro programa con una funcion `main()` y lo terminaremos con `return 0;` lo cual significa que todo bien con nuestro programa no hubo ninguno problema. Dentro de las llaves es donde pondremos todas nuestras instrucciones.\n",
    "\n",
    "⭕️ El `\"Hello World\\n\"` dentro de la funcion `printf()` es un parametro.\n",
    "\n",
    "⭕️ El `int` a lado de `main()` es el tipo de dato de `0` a lado del return.\n",
    "\n",
    "⭕️ Todas las intrucciones terminan con un `;` debido a que C es un lenguaje Space inSensitive, quiere decir que no distingue los espacios, por ende `;` sirve para decir cuando una intruccion termina.\n",
    "\n",
    "⭕️ Utilizaremos los espacios para que nuestro codigo sea mas facil de leer. Formatearemos y utilizaremos convenciones para escribir nuestro codigo.\n",
    "\n",
    "----------"
   ]
  },
  {
   "cell_type": "code",
   "execution_count": 2,
   "metadata": {},
   "outputs": [
    {
     "name": "stdout",
     "output_type": "stream",
     "text": [
      "El valor de x es: 10\n",
      "El valor de y es: 5"
     ]
    }
   ],
   "source": [
    "#include <stdio.h>\n",
    "\n",
    "int main()\n",
    "{\n",
    "    int x;\n",
    "    x = 10;\n",
    "    \n",
    "    int y = x / 2;\n",
    "    \n",
    "    printf(\"El valor de x es: %i\\nEl valor de y es: %i\", x, y);\n",
    "    return 0;\n",
    "}"
   ]
  },
  {
   "cell_type": "markdown",
   "metadata": {},
   "source": [
    "---------------\n",
    "✍🏽 **Syntax:** Forma como escribimos las instrucciones.\n",
    "\n",
    "✍🏽 **Declaracion:** Cuando creamos una variable con su tipo de dato.\n",
    "\n",
    "✍🏽 **Inicializacion:** Ocurre cuando asignamos un valor a una variable.\n",
    "\n",
    "✍🏽 **Instruccion:** Cualquier accion que queremos que realice la computadora.\n",
    "\n",
    "✍🏽 **Expresion:** Cualquier instruccion que al ser evaluada bota un resultado."
   ]
  },
  {
   "cell_type": "markdown",
   "metadata": {},
   "source": [
    "--------\n",
    "⭕️ *Linea 5:* Declaramos la variable `x` como int(entero).\n",
    "\n",
    "⭕️ *Linea 6:* Asignamos a la variable `x` un valor en este caso 10.\n",
    "\n",
    "⭕️ *Linea 8:* Creamos una expresion que al ser evaluada su valor se le asigna a la variable `y`.\n",
    "> ⚠️ **Nota:** Podemos declarar y asignar en una sola linea.\n",
    "\n",
    "⭕️ *Linea 10:* Para poder imprimir enteros por consola debemos usar `%i` en el espacio donde queremos que el numero vaya. Al final del texto colocamos las variables que contienen nuestros numeros. \n",
    "\n",
    "> ⚠️ **Nota:** El orden con el que pongamos las variables es el orden en el que apareceran en nuestro texto.\n",
    "\n",
    "-----\n",
    "\n",
    "💥 **Importante:** Desde la linea 5 hasta la 11 todas son instrucciones.\n",
    "\n",
    "💥 **Importante:** `\\n` es el caracter de salto de linea.\n",
    "\n",
    "-------"
   ]
  },
  {
   "cell_type": "code",
   "execution_count": 4,
   "metadata": {},
   "outputs": [
    {
     "name": "stdout",
     "output_type": "stream",
     "text": [
      "Ingrese el valor del radio:\n",
      "El area del circulo con radio -1 es: 3.141500"
     ]
    }
   ],
   "source": [
    "// Programa que calcula el area de un circulo\n",
    "#include <stdio.h>\n",
    "\n",
    "int main()\n",
    "{\n",
    "    int radio;\n",
    "    \n",
    "    printf(\"Ingrese el valor del radio:\\n\");\n",
    "    scanf(\"%i\", &radio);\n",
    "    \n",
    "    float area = 3.1415 * (radio * radio);\n",
    "    \n",
    "    printf(\"El area del circulo con radio %i es: %f\", radio, area);\n",
    "    return 0;\n",
    "}"
   ]
  },
  {
   "cell_type": "markdown",
   "metadata": {},
   "source": [
    "-----\n",
    "\n",
    "✍🏽 **Hard Coding:** Cuando el programador asigna valores a las variables.\n",
    "> ⚠️ **Nota:** Por lo general esto es malo, debido a que para cambiar dichos valores debemos entrar al codigo, cambiarlos noosotros mismos y recompilar el codigo. Es una buena practica tener un archivo de configuraciones o escribir por consola los valores de las variables importantes para que nuestro codigo funcione.\n",
    "\n",
    "✍🏽 **Errores Logicos:** Son aquellos cuando el programa compila pero el resultado no es el que esperamos, hay un problema en el codigo que produce un resultado erroneo.\n",
    "\n",
    "-----\n",
    "\n",
    "⭕️ *Linea 9:* Utilizamos la funcion `scanf()`, la cual la tenemos gracias a la libreria `stdio.h`, para guardar los datos que el usuario escriba por consola en una variable. En este caso indicamos que lo que se va a ingresar es un numero con `%i` y que se va a guardar en radio. Ponemos un `&` primero indicando la direccion en memoria donde se aloja la variable.\n",
    "\n",
    "⭕️ *Linea 13:* Usamos `%f` para referirnos a datos de tipo flotante es decir con punto decimal. Esto lo veremos mas a fondo en el cuaderno de [Tipos de Datos](https://github.com/jatobrun/C/blob/main/src/Data-Types.ipynb).\n",
    "\n",
    "-------\n"
   ]
  },
  {
   "cell_type": "code",
   "execution_count": 5,
   "metadata": {},
   "outputs": [
    {
     "name": "stdout",
     "output_type": "stream",
     "text": [
      "Numero de huevos en el dia:\n",
      "Si produces -1 huevos en el dia tienes -0.083333 docenas"
     ]
    }
   ],
   "source": [
    "#include <stdio.h>\n",
    "\n",
    "int main()\n",
    "{\n",
    "    printf(\"Numero de huevos en el dia:\\n\");\n",
    "    \n",
    "    int huevos;\n",
    "    scanf(\"%i\", &huevos);\n",
    "    \n",
    "    double docenas = (double)huevos / 12;\n",
    "    \n",
    "    printf(\"Si produces %i huevos en el dia tienes %f docenas\", huevos, docenas);\n",
    "    return 0;\n",
    "}"
   ]
  },
  {
   "cell_type": "markdown",
   "metadata": {},
   "source": [
    "------\n",
    "✍🏽 **Bugs:** Cuando existen errores de cualquier tipo en el codigo.\n",
    "\n",
    "✍🏽 **Type casting:** Es cuando cambiamos el tipo de datos de algun valor.\n",
    "\n",
    "-------\n",
    "\n",
    "⭕️ *Linea 10:* En esta linea pasan cosas importantes, tratare de explicarlas.\n",
    "    \n",
    "    1️⃣ la variable huevos que es un `int` se divide para `12` que tambien es un int. Cuando dividimos 2 `int` entre si el resultado es otro `int`.\n",
    "    \n",
    "    2️⃣ Este nuevo int es asignado a una variable con tipo de dato `double`.\n",
    "    \n",
    "El punto es que asi como tenemos nuestro codigo nos generara un bug (Error Logico). Si puedes ver el bug?. Tranqui lo voy a explicar con un ejemplo. \n",
    "\n",
    "🔆 Si corremos nuestro codigo y ponemos que tenemos 18 huevos, lo que pasara es que nos dira que tenemos 1 docena cuando en realidad tenemos docena y media. Este error se debe a que estamos haciendo una division entre 2 enteros por ende el resultado es otro entero. Para arreglar el bug debemos usar algo llamado type casting. \n",
    "\n",
    "✅ **Forma 1**\n",
    "\n",
    "```c\n",
    "    double docenas = (double)huevos / 12;\n",
    "```\n",
    "\n",
    "✅ **Forma 2**\n",
    "```c\n",
    "    double docenas = huevos / 12.0;\n",
    "```\n",
    "-------"
   ]
  },
  {
   "cell_type": "code",
   "execution_count": 2,
   "metadata": {},
   "outputs": [
    {
     "name": "stdout",
     "output_type": "stream",
     "text": [
      "Ingresa tu nombre: \n",
      "Hello !\n"
     ]
    }
   ],
   "source": [
    "#include <stdio.h>\n",
    "\n",
    "int main()\n",
    "{\n",
    "    char nombre[30];\n",
    "    printf(\"Ingresa tu nombre: \\n\");\n",
    "    scanf(\"%s\", nombre);\n",
    "    printf(\"Hello %s!\\n\", nombre);\n",
    "    return 0;\n",
    "}"
   ]
  },
  {
   "cell_type": "markdown",
   "metadata": {},
   "source": [
    "-----\n",
    "\n",
    "✍🏽 **String:** Es una secuencia de caracteres.\n",
    "\n",
    "✍🏽 **Null Terminator:** Es el caracter que C pone al final de un array de char para indicar que el array termino, es `\\0`.\n",
    "> ⚠️ **Nota:** Debemos recordar que C necesita saber este null terminator para saber donde acaba el string o cadena de char, por ende si nuestra cadena de char tiene 20 caracteres debemos inicializar nuestro array con 21 caracteres, para el null terminator.\n",
    "\n",
    "-----\n",
    "\n",
    "⭕️ *Linea 5:* Declaramos un array de char el cual contendra los caracteres del nombre escrito por consola. Si quieres saber mas sobre array mira este [cuaderno](https://github.com/jatobrun/C/blob/main/src/Arrays.ipynb).\n",
    "\n",
    "⭕️ *Linea 7:* Debido a que la variable `nombre` es un array de caracteres no necesitamos poner el `&` para indicar la direccion en memoria de dicha vairable. Mientras que en las demas variables si es necesario que pongas el `&`, podemos decir que es la excepcion de la regla. Puedes ver mas sobre arrays [aqui](https://github.com/jatobrun/C/blob/main/src/Arrays.ipynb).\n",
    "\n",
    "⭕️ *Linea 8:* Utilizamos el `%s` para darle formato a nuestro string e indicar que en esa posicion ira un string.\n",
    "\n",
    "----\n",
    "\n",
    "💥 **Atencion:** Si ingresamos un espacio en el nombre es decir `Andres Torres` el resultado sera `Hello Andres!`, tenemos otro bug. El cual resolveremos mas adelante :). Por el momento si quieres que salga nombre y apellido deberias usar dos variables una que pida el nombre y otra que pedi el apellido. Te invito a hacerlo 😃.\n",
    "\n",
    "---"
   ]
  },
  {
   "cell_type": "markdown",
   "metadata": {},
   "source": [
    "## Comentarios\n",
    "Los comentarios se usan para poner codigo que el compilador de C ignora completamente, pero que sirve para nosotros los humanos entender un poco mas que esta pasando en el codigo. El punto de los comentarios es **entender** que esta pasando en el codigo, no como lo hace o por que lo hace.\n",
    "\n",
    "En c existen 2 tipos de comentarios:\n",
    "    \n",
    "   1️⃣ **Comentarios de una linea:** Los cuales se ponen con `//`.\n",
    "   \n",
    "       ✅ Podemos ponerlos a lado de lineas de codigo.\n",
    "   \n",
    "       ❌ Solo es una linea de comentario.\n",
    "   \n",
    "   2️⃣ **Comentarios multilinea:** Los cuales se ponen con `/* */`.\n",
    "   \n",
    "       ✅ Es mas facil de leer.\n",
    "   \n",
    "       ✅ Puedes usar varias lineas de codigo.\n",
    "   \n",
    "       ❌ Puede ocasionar malas practicas debido a que comentas mucho y programas poco.\n",
    "       \n",
    "       ❌ Se vuelve mas complicado leer.\n",
    "\n",
    "💥 **Importante:** Solo se deberia poner comentarios si es necesario en bloques de codigo que normalmente es dificil de entender que esta ocurriendo. Entre menos comentarios pongas mejor debido a que te ves obligado a que tu codigo se entienda por si solo, nombre de variables, nombre de funciones, espaceado, etc."
   ]
  }
 ],
 "metadata": {
  "kernelspec": {
   "display_name": "C",
   "language": "c",
   "name": "c"
  },
  "language_info": {
   "file_extension": ".c",
   "mimetype": "text/plain",
   "name": "c"
  }
 },
 "nbformat": 4,
 "nbformat_minor": 4
}
